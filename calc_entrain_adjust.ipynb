{
 "cells": [
  {
   "cell_type": "markdown",
   "id": "e3a40918-e7cd-4bbf-b0a2-3b8e9637cd23",
   "metadata": {},
   "source": [
    "# Calculate entrainment adjustment\n",
    "\n",
    "Anna Mackie, 2024\n",
    "\n",
    "This script calculates the entraintment adjustment (see section 3.2 and Text S1) for the control simulation, using the zero-buoyancy plume model from Singh & O'Gorman (2013).\n",
    "\n",
    "Integrates the ZBP model between 500hPa and the LCL. In p coordinates:\n",
    "\n",
    "$\\frac{dh^*}{dp} =  -\\frac{\\hat{\\epsilon }}{p\\ln(p/p_0)} \\frac{T_v(p)}{\\{T_v(p)\\}} L_v[q^*(p) - q(p)]$\n",
    "\n",
    "where $\\{T_v(p)\\}\\equiv \\int_{p_0}^p(T_v/p)dp / \\int_{p_0}^p(1/p)dp$ is a virtual temperature inversely weighted by pressure between the surface and a given pressure level.\n",
    "\n",
    "It then finds the optimal entrainment parameter ($\\hat{\\epsilon}$) to fit the ascent fraction as calculated by the instability index to that as calculated by the vertical velocity at 500hPa.\n",
    "\n",
    "For a particular gridpoint $i,j$, the instability index is :\n",
    "\n",
    "$[\\Phi^e]_{i,j} = [h_{sfc}]_{i,j} - \\hat{\\epsilon}[h^{*e}]_{i,j} - [h^{*}_{500}]_{i,j}$\n",
    "\n",
    "the routine finds an $\\hat{\\epsilon}$ such that the area-weighted proportion of points with a poistive instability index over the 12 months of control simulation (at a monthly frequency) matches the area-weighted proportion of gridpoints with negative vertical velocity (ascending) at 500 hPa.\n",
    "\n",
    "Finally, $[h^{*e}]_{i,j}$ is calculated for the different perturbation simulations. All 'entrainment adjustments' are saved for use in plotting scripts."
   ]
  },
  {
   "cell_type": "code",
   "execution_count": 56,
   "id": "66178503-e131-47ca-a6a4-51a878caef90",
   "metadata": {},
   "outputs": [
    {
     "name": "stdout",
     "output_type": "stream",
     "text": [
      "/opt/jaspy/lib/python3.11/site-packages/metpy/__init__.py\n"
     ]
    }
   ],
   "source": [
    "import sys\n",
    "import pathlib\n",
    "import platform\n",
    "venv_path = '~/nb-venvs/metpy_venv'\n",
    "sys.path.append(str(pathlib.Path(f'{venv_path}/lib/python{platform.python_version_tuple()[0]}.{platform.python_version_tuple()[1]}/site-packages/').expanduser()))\n",
    "\n",
    "import metpy\n",
    "print(metpy.__file__)"
   ]
  },
  {
   "cell_type": "code",
   "execution_count": 57,
   "id": "c0a426bf-25bc-41ba-9089-e25e6c87a5b3",
   "metadata": {},
   "outputs": [],
   "source": [
    "import numpy as np\n",
    "import numpy.ma as ma\n",
    "import cf\n",
    "import matplotlib.pyplot as plt\n",
    "from matplotlib import colors\n",
    "import xarray as xr\n",
    "from mpl_toolkits.basemap import Basemap\n",
    "import matplotlib as mpl\n",
    "import cartopy.crs as ccrs\n",
    "from copy import copy\n",
    "import glob\n",
    "from scipy import stats\n",
    "from scipy.optimize import minimize\n",
    "from scipy.optimize import dual_annealing\n",
    "from scipy.ndimage import gaussian_filter\n",
    "import metpy.calc as mc\n",
    "from metpy.units import units\n",
    "import sys\n",
    "#sys.path.append('../')\n",
    "\n",
    "import regionmask\n",
    "import matplotlib.gridspec as gridspec\n",
    "\n",
    "\n",
    "plt.rcParams.update({'font.size': 14})\n",
    "\n",
    "lets = ['a)', 'b)', 'c)', 'd)', 'e)', 'f)', 'g)', 'h)', 'i)', 'j)', 'k)', 'l)']    \n",
    "\n",
    "sst_inc = ['-4', '-3', '-2', '-1','+1', '+2', '+3', '+4']\n",
    "sst_dig = [-4, -3, -2, -1, 1, 2, 3, 4]\n",
    "patches = ['100E', '140E', '180E', '220E']\n",
    "cols = ['steelblue', 'deepskyblue', 'lightskyblue', 'powderblue','lightsalmon', 'darksalmon', 'tomato', 'red']#'\n",
    "patch_cols = ['red', 'green', 'orange','blue']\n",
    "markers = ['o', 'd']\n",
    "lines = ['-', '--']\n",
    "\n",
    "def proportion_overcome_conv_threshold(hsfc, hsat500, weights, landmask):\n",
    "    \"\"\" proportion of domain ascending using instability\n",
    "    index, including area weighting\n",
    "    \"\"\"\n",
    "    lon, month = hsfc.lon, hsfc.month\n",
    "    weights = weights.where(landmask.notnull()==False)\n",
    "    if np.ndim(hsfc) ==3:\n",
    "        weights_3Darray = (weights * xr.DataArray(np.ones(len(month)), dims=(\"month\"))).T * xr.DataArray(np.ones(len(lon)), dims=(\"lon\"))\n",
    "    else:\n",
    "        weights_3Darray = (weights * xr.DataArray(np.ones(len(lon)), dims=(\"lon\")))\n",
    "    instab_index = hsfc - hsat500\n",
    "    return weights_3Darray.where(instab_index > 0).sum() / weights_3Darray.sum()\n",
    "\n",
    "def calc_ascent_frac(wap500, weights, landmask):\n",
    "    \"\"\" proportion of domain ascending using vertical velocity\n",
    "    at 500 hPa, including area weighting\n",
    "    \"\"\"\n",
    "    lon, month = wap500.lon, wap500.month\n",
    "    weights = weights.where(landmask.notnull()==False)\n",
    "    if np.ndim(wap500) ==3:\n",
    "        weights_3Darray = (weights * xr.DataArray(np.ones(len(month)), dims=(\"month\"))).T * xr.DataArray(np.ones(len(lon)), dims=(\"lon\"))\n",
    "    else:\n",
    "        weights_3Darray = (weights * xr.DataArray(np.ones(len(lon)), dims=(\"lon\")))\n",
    "                           \n",
    "    return weights_3Darray.where(wap500 < 0).sum() / weights_3Darray.sum()\n",
    "\n",
    "def calc_prop(arr, weights, landmask):\n",
    "    lon, month = arr.lon, arr.month\n",
    "    weights = weights.where(landmask.notnull()==False)\n",
    "    if np.ndim(arr) ==3:\n",
    "        weights_3Darray = (weights * xr.DataArray(np.ones(len(month)), dims=(\"month\"))).T * xr.DataArray(np.ones(len(lon)), dims=(\"lon\"))\n",
    "    else:\n",
    "        weights_3Darray = (weights * xr.DataArray(np.ones(len(lon)), dims=(\"lon\")))\n",
    "    return float(weights_3Darray.where(arr.notnull()==True).sum() / weights_3Darray.sum())\n",
    "\n",
    "\n"
   ]
  },
  {
   "cell_type": "markdown",
   "id": "e6c84355-4849-4786-9619-0ad6c858b808",
   "metadata": {
    "tags": []
   },
   "source": [
    "## Constants"
   ]
  },
  {
   "cell_type": "code",
   "execution_count": 58,
   "id": "8c6c128d-bd32-4cb8-8f81-dcaae16a6408",
   "metadata": {
    "tags": []
   },
   "outputs": [],
   "source": [
    "# constants\n",
    "l = 20\n",
    "g = metpy.constants.earth_gravity\n",
    "cp = metpy.constants.dry_air_spec_heat_press\n",
    "Lv = metpy.constants.water_heat_vaporization\n",
    "Rv = metpy.constants.water_gas_constant\n",
    "Md = metpy.constants.dry_air_molecular_weight\n",
    "R0 = metpy.constants.dry_air_gas_constant\n",
    "sst_change = [-4,-3,-2,-1,1,2,3,4]\n",
    "no_patches = len(patches)\n",
    "no_temps = len(sst_dig)\n"
   ]
  },
  {
   "cell_type": "markdown",
   "id": "46817140-6f7e-4f8d-905f-3f19e0cf58fb",
   "metadata": {},
   "source": [
    "## Control simulation"
   ]
  },
  {
   "cell_type": "code",
   "execution_count": 59,
   "id": "3aa0ddbb-961c-4651-ae21-2536e8bf143e",
   "metadata": {},
   "outputs": [],
   "source": [
    "# make landmask and latitude weighting from control\n",
    "ds = xr.open_dataset('data/control_2d.nc')\n",
    "ds3d = xr.open_dataset('data/control_3d.nc')\n",
    "\n",
    "lat = ds.lat.sel(lat = slice(-l,l))\n",
    "\n",
    "#define land mask\n",
    "landmask = regionmask.defined_regions.natural_earth_v5_0_0.land_110.mask(ds.lon, lat)\n",
    "weights = np.cos(np.deg2rad(lat))\n",
    "\n",
    "SST = ds.ts.sel(lat = slice(-l, l)).where(landmask.notnull()==False)"
   ]
  },
  {
   "cell_type": "code",
   "execution_count": 60,
   "id": "ed493bc8-cd14-4490-85d1-f4283277f55a",
   "metadata": {},
   "outputs": [],
   "source": [
    "# load control data\n",
    "wap_ctrl = ds3d.wap.sel(lat = slice(-l,l))\n",
    "wap500_ctrl =wap_ctrl.sel(plev = 50000.) * units.Pa /units.second\n",
    "\n",
    "#MSE\n",
    "zg = ds3d.zg.sel(lat = slice(-l, l)) *units.m\n",
    "ta = ds3d.ta.sel(lat = slice(-l, l)) *units.K\n",
    "q = ds3d.hus.sel(lat = slice(-l, l))*units.kilogram / units.kilogram\n",
    "rh = ds3d.hur.sel(lat = slice(-l, l))\n",
    "pfull = ds3d.pfull.sel(lat = slice(-l, l)) *units.Pa\n",
    "ps = ds.ps.sel(lat = slice(-l,l)) * units.Pa\n",
    "ts_ctrl = ds.ts.sel(lat = slice(-l,l)) * units.K\n",
    "tas = ds.tas.sel(lat = slice(-l,l)) * units.K\n",
    "dew2 = ds.dew2.sel(lat = slice(-l,l))* units.K\n",
    "q2m = mc.specific_humidity_from_dewpoint(ps, dew2)\n",
    "\n",
    "# calc MSE\n",
    "h_ctrl = mc.moist_static_energy(zg, ta, q)\n",
    "hsfc_ctrl = mc.moist_static_energy(2*units.m, tas, q2m)\n",
    "\n",
    "# calc MSE*\n",
    "sat_mixing_ratio = mc.saturation_mixing_ratio(pfull, ta)\n",
    "sat_spec_hum = mc.specific_humidity_from_mixing_ratio(sat_mixing_ratio)\n",
    "hsat_ctrl = mc.moist_static_energy(zg, ta, sat_spec_hum)\n",
    "hsat500_ctrl = hsat_ctrl.sel(plev = 50000.)#.sel(plev = slice(30000., 60000.)).weighted(weights).mean(dim = ('plev'))\n",
    "\n",
    "month, lat, lon = ta.month, ta.lat, ta.lon\n",
    "plev_array = np.asarray(ta.plev)\n",
    "\n",
    "#will integrate between 500hPa and LCL\n",
    "#find LCL\n",
    "lcl = mc.lcl(ps, tas, dew2) # returns a tuple: first dimension is pressure, the second temp\n",
    "lcl_p = lcl[0]\n",
    "\n",
    "sat_def = sat_spec_hum - q\n",
    "\n",
    "plev_FT = 50000. # take this as free-tropospheric ref point\n",
    "plev_FT_index = np.argmin(np.abs(plev_array - plev_FT))#index of 500hPa level\n"
   ]
  },
  {
   "cell_type": "markdown",
   "id": "585c0c26-5c45-426d-a07b-aacd1d6c3d2a",
   "metadata": {},
   "source": [
    "## Set up ZBP model equation and integrate"
   ]
  },
  {
   "cell_type": "code",
   "execution_count": 40,
   "id": "4b09478a-d6eb-4a33-926a-7cdf4f4557d6",
   "metadata": {},
   "outputs": [],
   "source": [
    "# calculate the virtual tempertaure factor {Tv(p)} \n",
    "plev_array= np.asarray(h_ctrl.plev)\n",
    "mixing_ratio = mc.mixing_ratio_from_specific_humidity(q)\n",
    "virtual_temp = mc.virtual_temperature(ta, mixing_ratio)\n",
    "virtual_temp_by_p = virtual_temp/pfull\n",
    "part1 = np.empty(np.shape(virtual_temp_by_p))\n",
    "part2 = np.empty(np.shape(virtual_temp_by_p))\n",
    "\n",
    "#restrict range of calculation to between 500hPa and 1000hPa\n",
    "for plev_index in range(len(plev_array)):\n",
    "    pressure = plev_array[plev_index]\n",
    "    # restrict from pressure to p0 \n",
    "    part1i = virtual_temp_by_p.sel(plev = slice(pressure, 100000.))               \n",
    "    part2i = (1/pfull).sel(plev = slice(pressure, 100000.)) \n",
    "    \n",
    "    if plev_array[plev_index] == plev_array[-1]: # first plevel, if only one level\n",
    "        part1[:,plev_index,] = part1i[:,0,] \n",
    "        part2[:,plev_index,] = part2i[:,0,]\n",
    "    else: # integrate over other levels, stack\n",
    "        part1[:,plev_index,] = part1i.integrate(coord = 'plev')\n",
    "        part2[:,plev_index,] = part2i.integrate(coord = 'plev')\n",
    "\n",
    "virtual_temperature_pressure_weighted = part1/part2"
   ]
  },
  {
   "cell_type": "code",
   "execution_count": 48,
   "id": "302b3d29-107c-431c-8136-b481ad005401",
   "metadata": {},
   "outputs": [],
   "source": [
    "# put this inequation to integrate\n",
    "dhdp = (virtual_temp/virtual_temperature_pressure_weighted)*(-Lv*sat_def)/(pfull*np.log(pfull/ps))\n",
    "\n",
    "#entrainment calc - no need to re-run unless routine changes as have saved output.\n",
    "# this uses both land and ocean points\n",
    "\n",
    "adjustment = np.empty((12,len(lat), len(lon))) # empty array to fill\n",
    "hlcl = np.empty((12,len(lat), len(lon)))\n",
    "for month in range(12):\n",
    "    for lati in range(len(lat)):\n",
    "        for loni in range(len(lon)):\n",
    "            lcli = np.asarray(lcl_p[month, lati, loni]) # get lcl of that lat/lon/month\n",
    "            lcl_plev = np.argmin(np.abs(plev_array - lcli)) # find index of closest plev to lcli\n",
    "            dhdp_500_to_lcl = dhdp.sel(month = month+1, lat = lat[lati], lon = lon[loni], plev = slice(plev_FT, plev_array[lcl_plev])) # restrict dhdz to plevels above lcl and below 500 hPa\n",
    "            plev_500_to_lcl = plev_array[plev_FT_index:lcl_plev+1] # get array of pressure levels integrating over\n",
    "            adjustment[month,lati, loni] = np.trapz(dhdp_500_to_lcl, x = plev_500_to_lcl) # numerically integrate that lat/lon/month column\n",
    "            hlcl[month, lati, loni] = h_ctrl.sel(month = month+1, lat = lat[lati], lon = lon[loni], plev = h_ctrl.plev[lcl_plev])\n",
    "np.save('entrainment_adjustments/adjustment_ctrl.npy', adjustment, allow_pickle = True)"
   ]
  },
  {
   "cell_type": "markdown",
   "id": "b97a5131-6acb-4c19-8d10-a07dd02a9823",
   "metadata": {},
   "source": [
    "## Optimisation to obtain epsilon"
   ]
  },
  {
   "cell_type": "code",
   "execution_count": 61,
   "id": "41a1512f-c757-4cc7-a603-2719e90b6649",
   "metadata": {},
   "outputs": [],
   "source": [
    "#load control adjustment due to entrainment\n",
    "months = np.arange(1,13,1)\n",
    "adjustment_ctrl = np.load('entrainment_adjustments/adjustment_ctrl.npy')\n",
    "adjustment_ctrl = xr.DataArray(adjustment_ctrl, dims=(\"month\", \"lat\", \"lon\"), coords = (months, lat, lon))\n",
    "adjustment_ctrl = adjustment_ctrl *units.joule / units.kilogram\n"
   ]
  },
  {
   "cell_type": "code",
   "execution_count": 63,
   "id": "592fe5e1-5eef-4237-acc5-fa8c950f1a30",
   "metadata": {},
   "outputs": [
    {
     "name": "stdout",
     "output_type": "stream",
     "text": [
      "entrainment parameter optimised to be:  [0.17746965]\n"
     ]
    }
   ],
   "source": [
    "# function of what I want minimised: in this case, the difference between the proportion overcoming \n",
    "# the convective threshold over the 12 months of the control simulation, and the ascent fraction,  \n",
    "# in order to tune the entrainment parameter \n",
    "\n",
    "#need to adjust landmask, as some coastal gridpoints have adjustment_ctrl = NaN as they don't have values for 1000hPa\n",
    "landmask = regionmask.defined_regions.natural_earth_v5_0_0.land_110.mask(ds.lon, lat)\n",
    "landmask = xr.ones_like(wap500_ctrl).where(landmask.notnull()==False).where(adjustment_ctrl.notnull()==True)\n",
    "landmask = xr.zeros_like(landmask).where(landmask !=1)\n",
    "\n",
    "# this function returns the difference between the ascent fraction as determined by the instability index and vertical velocity\n",
    "def func(ehat, hsfc, adjustment, hsat500, wap500): #arguments needs to be a tuple of the fixed params\n",
    "    index = proportion_overcome_conv_threshold(hsfc - adjustment*ehat, hsat500, weights, landmask)\n",
    "    alpha_up = calc_ascent_frac(wap500, weights, landmask)\n",
    "    return np.abs(alpha_up - index)\n",
    "    \n",
    "# this routine minimisies the result from 'func' ie the difference (on landmasked points)\n",
    "res = dual_annealing(func, bounds = [(0.1, 0.2)], \n",
    "                     args = (hsfc_ctrl.where(landmask.notnull()==False), adjustment_ctrl.where(landmask.notnull()==False), hsat500_ctrl.where(landmask.notnull()==False), \n",
    "                             wap500_ctrl.where(landmask.notnull()==False)),\n",
    "                     maxiter = 1000) # default max iteration is 1000\n",
    "ehat = res.x\n",
    "print('entrainment parameter optimised to be: ' ,ehat)\n"
   ]
  },
  {
   "cell_type": "markdown",
   "id": "5b679b29-f118-45e6-8d4f-496c9fca5b87",
   "metadata": {},
   "source": [
    "## Perturbation experiments\n",
    "\n",
    "Repeat the process done with the control simulation (ZBP model) for the perturbation simulations and save"
   ]
  },
  {
   "cell_type": "code",
   "execution_count": null,
   "id": "ceb4103b-36cb-43b2-8c4e-0c4b721a34d4",
   "metadata": {},
   "outputs": [
    {
     "name": "stdout",
     "output_type": "stream",
     "text": [
      "patch =  100E\n",
      "delta sst =   -4\n"
     ]
    },
    {
     "name": "stderr",
     "output_type": "stream",
     "text": [
      "/tmp/ipykernel_15451/2589029043.py:72: RuntimeWarning: invalid value encountered in divide\n",
      "  virtual_temperature_pressure_weighted = part1/part2\n"
     ]
    },
    {
     "name": "stdout",
     "output_type": "stream",
     "text": [
      "delta sst =   -3\n"
     ]
    },
    {
     "name": "stderr",
     "output_type": "stream",
     "text": [
      "/tmp/ipykernel_15451/2589029043.py:72: RuntimeWarning: invalid value encountered in divide\n",
      "  virtual_temperature_pressure_weighted = part1/part2\n"
     ]
    },
    {
     "name": "stdout",
     "output_type": "stream",
     "text": [
      "delta sst =   -2\n"
     ]
    },
    {
     "name": "stderr",
     "output_type": "stream",
     "text": [
      "/tmp/ipykernel_15451/2589029043.py:72: RuntimeWarning: invalid value encountered in divide\n",
      "  virtual_temperature_pressure_weighted = part1/part2\n"
     ]
    },
    {
     "name": "stdout",
     "output_type": "stream",
     "text": [
      "delta sst =   -1\n"
     ]
    },
    {
     "name": "stderr",
     "output_type": "stream",
     "text": [
      "/tmp/ipykernel_15451/2589029043.py:72: RuntimeWarning: invalid value encountered in divide\n",
      "  virtual_temperature_pressure_weighted = part1/part2\n"
     ]
    },
    {
     "name": "stdout",
     "output_type": "stream",
     "text": [
      "delta sst =   +1\n"
     ]
    },
    {
     "name": "stderr",
     "output_type": "stream",
     "text": [
      "/tmp/ipykernel_15451/2589029043.py:72: RuntimeWarning: invalid value encountered in divide\n",
      "  virtual_temperature_pressure_weighted = part1/part2\n"
     ]
    },
    {
     "name": "stdout",
     "output_type": "stream",
     "text": [
      "delta sst =   +2\n"
     ]
    },
    {
     "name": "stderr",
     "output_type": "stream",
     "text": [
      "/tmp/ipykernel_15451/2589029043.py:72: RuntimeWarning: invalid value encountered in divide\n",
      "  virtual_temperature_pressure_weighted = part1/part2\n"
     ]
    },
    {
     "name": "stdout",
     "output_type": "stream",
     "text": [
      "delta sst =   +3\n"
     ]
    },
    {
     "name": "stderr",
     "output_type": "stream",
     "text": [
      "/tmp/ipykernel_15451/2589029043.py:72: RuntimeWarning: invalid value encountered in divide\n",
      "  virtual_temperature_pressure_weighted = part1/part2\n"
     ]
    },
    {
     "name": "stdout",
     "output_type": "stream",
     "text": [
      "delta sst =   +4\n"
     ]
    },
    {
     "name": "stderr",
     "output_type": "stream",
     "text": [
      "/tmp/ipykernel_15451/2589029043.py:72: RuntimeWarning: invalid value encountered in divide\n",
      "  virtual_temperature_pressure_weighted = part1/part2\n"
     ]
    },
    {
     "name": "stdout",
     "output_type": "stream",
     "text": [
      "patch =  140E\n",
      "delta sst =   -4\n"
     ]
    },
    {
     "name": "stderr",
     "output_type": "stream",
     "text": [
      "/tmp/ipykernel_15451/2589029043.py:72: RuntimeWarning: invalid value encountered in divide\n",
      "  virtual_temperature_pressure_weighted = part1/part2\n"
     ]
    },
    {
     "name": "stdout",
     "output_type": "stream",
     "text": [
      "delta sst =   -3\n"
     ]
    },
    {
     "name": "stderr",
     "output_type": "stream",
     "text": [
      "/tmp/ipykernel_15451/2589029043.py:72: RuntimeWarning: invalid value encountered in divide\n",
      "  virtual_temperature_pressure_weighted = part1/part2\n"
     ]
    },
    {
     "name": "stdout",
     "output_type": "stream",
     "text": [
      "delta sst =   -2\n"
     ]
    },
    {
     "name": "stderr",
     "output_type": "stream",
     "text": [
      "/tmp/ipykernel_15451/2589029043.py:72: RuntimeWarning: invalid value encountered in divide\n",
      "  virtual_temperature_pressure_weighted = part1/part2\n"
     ]
    },
    {
     "name": "stdout",
     "output_type": "stream",
     "text": [
      "delta sst =   -1\n"
     ]
    },
    {
     "name": "stderr",
     "output_type": "stream",
     "text": [
      "/tmp/ipykernel_15451/2589029043.py:72: RuntimeWarning: invalid value encountered in divide\n",
      "  virtual_temperature_pressure_weighted = part1/part2\n"
     ]
    },
    {
     "name": "stdout",
     "output_type": "stream",
     "text": [
      "delta sst =   +1\n"
     ]
    },
    {
     "name": "stderr",
     "output_type": "stream",
     "text": [
      "/tmp/ipykernel_15451/2589029043.py:72: RuntimeWarning: invalid value encountered in divide\n",
      "  virtual_temperature_pressure_weighted = part1/part2\n"
     ]
    },
    {
     "name": "stdout",
     "output_type": "stream",
     "text": [
      "delta sst =   +2\n"
     ]
    },
    {
     "name": "stderr",
     "output_type": "stream",
     "text": [
      "/tmp/ipykernel_15451/2589029043.py:72: RuntimeWarning: invalid value encountered in divide\n",
      "  virtual_temperature_pressure_weighted = part1/part2\n"
     ]
    },
    {
     "name": "stdout",
     "output_type": "stream",
     "text": [
      "delta sst =   +3\n"
     ]
    },
    {
     "name": "stderr",
     "output_type": "stream",
     "text": [
      "/tmp/ipykernel_15451/2589029043.py:72: RuntimeWarning: invalid value encountered in divide\n",
      "  virtual_temperature_pressure_weighted = part1/part2\n"
     ]
    },
    {
     "name": "stdout",
     "output_type": "stream",
     "text": [
      "delta sst =   +4\n"
     ]
    },
    {
     "name": "stderr",
     "output_type": "stream",
     "text": [
      "/tmp/ipykernel_15451/2589029043.py:72: RuntimeWarning: invalid value encountered in divide\n",
      "  virtual_temperature_pressure_weighted = part1/part2\n"
     ]
    },
    {
     "name": "stdout",
     "output_type": "stream",
     "text": [
      "patch =  180E\n",
      "delta sst =   -4\n"
     ]
    },
    {
     "name": "stderr",
     "output_type": "stream",
     "text": [
      "/tmp/ipykernel_15451/2589029043.py:72: RuntimeWarning: invalid value encountered in divide\n",
      "  virtual_temperature_pressure_weighted = part1/part2\n"
     ]
    },
    {
     "name": "stdout",
     "output_type": "stream",
     "text": [
      "delta sst =   -3\n"
     ]
    },
    {
     "name": "stderr",
     "output_type": "stream",
     "text": [
      "/tmp/ipykernel_15451/2589029043.py:72: RuntimeWarning: invalid value encountered in divide\n",
      "  virtual_temperature_pressure_weighted = part1/part2\n"
     ]
    }
   ],
   "source": [
    "alpha_up_array, orig_array, adjust_array = np.empty((4,8)),np.empty((4,8)),np.empty((4,8))\n",
    "\n",
    "plev_FT = 50000.\n",
    "\n",
    "for k in range(4):\n",
    "    \n",
    "    patch = patches[k]\n",
    "    print('patch = ', patch)\n",
    "    for j in range(len(sst_inc)):\n",
    "        delta_sst = sst_inc[j]\n",
    "        print('delta sst =  ', delta_sst)\n",
    "        ds1_3d = xr.open_dataset('data/' + patch +'_0N_' + delta_sst + 'K_3d.nc')\n",
    "        ds1 = xr.open_dataset('data/' + patch +'_0N_' + delta_sst + 'K_2d.nc')\n",
    "    \n",
    "        \n",
    "        wap = ds1_3d.wap.sel(lat = slice(-l,l))\n",
    "        wap500 =wap.sel(plev = 50000.) * units.Pa /units.second\n",
    "        lat = wap500.lat\n",
    "        lon = wap500.lon\n",
    "        plev_array = np.asarray(wap.plev)\n",
    "\n",
    "        plev_FT_index = np.argmin(np.abs(plev_array - plev_FT))\n",
    "        \n",
    "        #MSE\n",
    "       \n",
    "        zg = ds1_3d.zg.sel(lat = slice(-l, l)) *units.m\n",
    "        ta = ds1_3d.ta.sel(lat = slice(-l, l)) *units.K\n",
    "        q = ds1_3d.hus.sel(lat = slice(-l, l))*units.kilogram / units.kilogram\n",
    "        rh = ds1_3d.hur.sel(lat = slice(-l, l))\n",
    "        pfull = ds1_3d.pfull.sel(lat = slice(-l, l)) *units.Pa\n",
    "        ps = ds1.ps.sel(lat = slice(-l,l)) * units.Pa\n",
    "        ts = ds1.ts.sel(lat = slice(-l,l)) * units.K\n",
    "        tas = ds1.tas.sel(lat = slice(-l,l)) * units.K\n",
    "        dew2 = ds1.dew2.sel(lat = slice(-l,l))* units.K\n",
    "        q2m = mc.specific_humidity_from_dewpoint(ps, dew2)\n",
    "        \n",
    "        #MSE\n",
    "        h = mc.moist_static_energy(zg, ta, q)\n",
    "        h500 = h.sel(plev=50000.)\n",
    "        hsfc = mc.moist_static_energy(2*units.m, tas, q2m)\n",
    "        \n",
    "        #MSE*\n",
    "        sat_mixing_ratio = mc.saturation_mixing_ratio(pfull, ta)\n",
    "        sat_spec_hum = mc.specific_humidity_from_mixing_ratio(sat_mixing_ratio)\n",
    "        hsat = mc.moist_static_energy(zg, ta, sat_spec_hum)\n",
    "        hsat500 = hsat.sel(plev = 50000.)\n",
    "        \n",
    "        #entrainment calc\n",
    "        \n",
    "        #lcl\n",
    "        dewpoint = mc.dewpoint_from_specific_humidity(pfull, ta, q)\n",
    "        \n",
    "        lcl = mc.lcl(ps, tas, dew2) \n",
    "        lcl_p = lcl[0]\n",
    "        \n",
    "        sat_def = sat_spec_hum - q\n",
    "\n",
    "        mixing_ratio = mc.mixing_ratio_from_specific_humidity(q)\n",
    "        virtual_temp = mc.virtual_temperature(ta, mixing_ratio)\n",
    "        virtual_temp_by_p = virtual_temp/pfull\n",
    "        part1 = np.empty(np.shape(virtual_temp_by_p))\n",
    "        part2 = np.empty(np.shape(virtual_temp_by_p))\n",
    "        \n",
    "        \n",
    "        for plev_index in range(len(plev_array)):\n",
    "            pressure = plev_array[plev_index]\n",
    "            part1i = virtual_temp_by_p.sel(plev = slice(pressure, 100000.))  \n",
    "            part2i = (1/pfull).sel(plev = slice(pressure, 100000.)) \n",
    "\n",
    "            if plev_array[plev_index] == plev_array[-1]:\n",
    "                part1[:,plev_index,] = part1i[:,0,]\n",
    "                part2[:,plev_index,] = part2i[:,0,]\n",
    "            else:\n",
    "                part1[:,plev_index,] = part1i.integrate(coord = 'plev')\n",
    "                part2[:,plev_index,] = part2i.integrate(coord = 'plev')\n",
    "                 \n",
    "        virtual_temperature_pressure_weighted = part1/part2\n",
    "\n",
    "        dhdp = (virtual_temp/virtual_temperature_pressure_weighted)*(-Lv*sat_def)/(pfull*np.log(pfull/ps))\n",
    "        \n",
    "        #numerically integrate\n",
    "        #loop over lat/lon/month\n",
    "        months = ta.month\n",
    "        adjustment = np.empty((12,len(lat), len(lon))) # empty array to fill\n",
    "        hlcl = np.empty((12,len(lat), len(lon)))\n",
    "        for month in range(12):\n",
    "            for lati in range(len(lat)):\n",
    "                for loni in range(len(lon)):\n",
    "                    lcli = np.asarray(lcl_p[month,lati, loni]) # get lcl of that lat/lon/month\n",
    "                    lcl_plev = np.argmin(np.abs(plev_array - lcli)) # find index of closest plev to lcli\n",
    "                    dhdp_500_to_lcl = dhdp.sel(month = month+1, lat = lat[lati], lon = lon[loni], plev = slice(plev_FT, plev_array[lcl_plev])) # restrict dhdz to plevels above lcl and below 500 hPa\n",
    "                    plev_500_to_lcl = plev_array[plev_FT_index:lcl_plev+1] # get array of pressure levels integrating over\n",
    "                    adjustment[month,lati, loni] = np.trapz(dhdp_500_to_lcl, x = plev_500_to_lcl) # numerically integrate that lat/lon/month column\n",
    "\n",
    "        #choose ascent regions, calculate \n",
    "        np.save('entrainment_adjustments/adjustment'+ patch +'_0N_' + delta_sst + 'K.npy', adjustment, allow_pickle=True)\n"
   ]
  },
  {
   "cell_type": "code",
   "execution_count": null,
   "id": "c95c71d2-a98e-4088-8c03-8b221b18e79d",
   "metadata": {},
   "outputs": [],
   "source": []
  }
 ],
 "metadata": {
  "kernelspec": {
   "display_name": "Python 3 + Jaspy",
   "language": "python",
   "name": "jaspy"
  },
  "language_info": {
   "codemirror_mode": {
    "name": "ipython",
    "version": 3
   },
   "file_extension": ".py",
   "mimetype": "text/x-python",
   "name": "python",
   "nbconvert_exporter": "python",
   "pygments_lexer": "ipython3",
   "version": "3.11.9"
  }
 },
 "nbformat": 4,
 "nbformat_minor": 5
}
